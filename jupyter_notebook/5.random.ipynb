{
 "cells": [
  {
   "cell_type": "code",
   "execution_count": null,
   "id": "9dc7bc93",
   "metadata": {},
   "outputs": [],
   "source": [
    "# import random模块\n",
    "# shuffle(seq)，对有序序列进行打乱\n",
    "# randint(x, y)，随机返回[x, y]\n",
    "# randrange(x, y)，随即返回[x, y)\n",
    "# choice(seq)，随机抽取一个，几率相同\n",
    "# choices(seq,seq, k=)，随机抽取多个，可以指定k取多个放到列表里，可以重复取，可以指定weight，和列表的顺序一一对应\n",
    "# sample(seq, k=)，随机抽取，不能重复获取"
   ]
  },
  {
   "cell_type": "code",
   "execution_count": 1,
   "id": "fbffaed1",
   "metadata": {},
   "outputs": [],
   "source": [
    "import random"
   ]
  },
  {
   "cell_type": "code",
   "execution_count": 11,
   "id": "8105269f",
   "metadata": {},
   "outputs": [
    {
     "data": {
      "text/plain": [
       "[0, 1, 2, 3, 4]"
      ]
     },
     "execution_count": 11,
     "metadata": {},
     "output_type": "execute_result"
    }
   ],
   "source": [
    "x = list(range(5))\n",
    "x"
   ]
  },
  {
   "cell_type": "code",
   "execution_count": 12,
   "id": "1f2a2757",
   "metadata": {},
   "outputs": [
    {
     "data": {
      "text/plain": [
       "[1, 3, 0, 2, 4]"
      ]
     },
     "execution_count": 12,
     "metadata": {},
     "output_type": "execute_result"
    }
   ],
   "source": [
    "random.shuffle(x)\n",
    "x"
   ]
  },
  {
   "cell_type": "code",
   "execution_count": 6,
   "id": "51fe24ae",
   "metadata": {},
   "outputs": [
    {
     "name": "stdout",
     "output_type": "stream",
     "text": [
      "0\n",
      "0\n",
      "0\n",
      "0\n",
      "1\n"
     ]
    }
   ],
   "source": [
    "for i in range(5):\n",
    "    print(random.randint(0, 1))"
   ]
  },
  {
   "cell_type": "code",
   "execution_count": 7,
   "id": "0de38e1d",
   "metadata": {},
   "outputs": [
    {
     "name": "stdout",
     "output_type": "stream",
     "text": [
      "0\n",
      "0\n",
      "0\n",
      "0\n",
      "0\n"
     ]
    }
   ],
   "source": [
    "for i in range(5):\n",
    "    print(random.randrange(0, 1))"
   ]
  },
  {
   "cell_type": "code",
   "execution_count": 13,
   "id": "0d32f7fa",
   "metadata": {},
   "outputs": [
    {
     "data": {
      "text/plain": [
       "[1, 3, 0, 2, 4]"
      ]
     },
     "execution_count": 13,
     "metadata": {},
     "output_type": "execute_result"
    }
   ],
   "source": [
    "x"
   ]
  },
  {
   "cell_type": "code",
   "execution_count": 14,
   "id": "d5f92d37",
   "metadata": {},
   "outputs": [
    {
     "name": "stdout",
     "output_type": "stream",
     "text": [
      "3\n",
      "3\n",
      "2\n",
      "1\n",
      "0\n"
     ]
    }
   ],
   "source": [
    "for i in range(5):\n",
    "    print(random.choice(x))"
   ]
  },
  {
   "cell_type": "code",
   "execution_count": 18,
   "id": "98323237",
   "metadata": {},
   "outputs": [
    {
     "name": "stdout",
     "output_type": "stream",
     "text": [
      "[3, 0, 1]\n",
      "[0, 1, 4]\n",
      "[4, 3, 4]\n",
      "[2, 2, 4]\n",
      "[2, 2, 1]\n"
     ]
    }
   ],
   "source": [
    "for i in range(5):\n",
    "    print(random.choices(x,k=3))"
   ]
  },
  {
   "cell_type": "code",
   "execution_count": 19,
   "id": "1ff49fca",
   "metadata": {},
   "outputs": [
    {
     "name": "stdout",
     "output_type": "stream",
     "text": [
      "[4, 1, 4]\n",
      "[4, 4, 0]\n",
      "[4, 1, 1]\n",
      "[1, 4, 1]\n",
      "[1, 1, 1]\n"
     ]
    }
   ],
   "source": [
    "for i in range(5):\n",
    "    print(random.choices(x,[10, 1, 2, 1, 10], k=3))"
   ]
  },
  {
   "cell_type": "code",
   "execution_count": null,
   "id": "9a08daf8",
   "metadata": {},
   "outputs": [],
   "source": []
  },
  {
   "cell_type": "code",
   "execution_count": null,
   "id": "0446b1d9",
   "metadata": {},
   "outputs": [],
   "source": []
  },
  {
   "cell_type": "code",
   "execution_count": null,
   "id": "12d479a3",
   "metadata": {},
   "outputs": [],
   "source": []
  },
  {
   "cell_type": "code",
   "execution_count": null,
   "id": "ba2acc14",
   "metadata": {},
   "outputs": [],
   "source": []
  }
 ],
 "metadata": {
  "kernelspec": {
   "display_name": "Python 3 (ipykernel)",
   "language": "python",
   "name": "python3"
  },
  "language_info": {
   "codemirror_mode": {
    "name": "ipython",
    "version": 3
   },
   "file_extension": ".py",
   "mimetype": "text/x-python",
   "name": "python",
   "nbconvert_exporter": "python",
   "pygments_lexer": "ipython3",
   "version": "3.8.10"
  }
 },
 "nbformat": 4,
 "nbformat_minor": 5
}
