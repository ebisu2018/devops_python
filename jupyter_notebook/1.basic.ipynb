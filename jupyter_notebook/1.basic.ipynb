{
 "cells": [
  {
   "cell_type": "code",
   "execution_count": 70,
   "id": "0f364c4b",
   "metadata": {},
   "outputs": [],
   "source": [
    "# python基础\n",
    "\n",
    "# python是动态类型，强类型语言\n",
    "# 静态/动态类型一般是是否需要在变量前声明类型，是否做强制类型检查，python中赋值即定义，值和类型都在赋值那一刻决定\n",
    "# 强弱类型语言是指，不同类型的变量是否可以操作，是否需要强制类型转换\n",
    "\n",
    "# 标识符本质是助记符，指向一个值，给人类看的，标识符实际编译后会转化为内存中的地址\n",
    "# 全部小写，多个单词使用下划线间隔，不要用下划线开头，不能以数字开头，最好就是字母开头\n",
    "# 变量：标识符可以被重新赋值，可以指向其他的值\n",
    "# 常量：一旦定义，就不能改变标识符的指向\n",
    "# python中没有标识符常量，有常量表示一般用大写，python中一切都是可以更改的\n",
    "\n",
    "# 字面量不能改变，不是指标识符常量，是值本身，和指向没有关系\n",
    "\n",
    "# 字符串格式化有format和f插值\n",
    "\n",
    "# \\n 换行符，Linux中\n",
    "# \\r return mac中\n",
    "# \\r\\n windows换行\n",
    "# \\t 向右偏移4个或者8个单位\n",
    "# 转义字符表示一个字符，存储是存储，显示是显示\n",
    "\n",
    "# 续行符，中间并没有换行，一般一行太长时候使用，后面不可以有任何字符\n",
    "# 类型注解，其实没有用，相当于注释效果，不做强制类型检查，变量:类型\n",
    "\n",
    "# bool类型是int类型的子类，bool只有True和False\n",
    "# bool中的假有False, None, '', 0, 空容器（空的字典，列表，元组，集合）\n",
    "# 不是空的都是真\n",
    "\n",
    "# 比较表达式返回结果一定是bool类型，==, >, <，跨类型比较没有意义，都是同类型比较\n",
    "# 逻辑运算符 and or not,返回类型不一定是bool类型\n",
    "# 短路运算符，把可能短路的放到前面，优化原则，越早短路越高效\n",
    "\n",
    "# python中只有单目和双目运算符，没有三目运算符\n",
    "\n",
    "# ''和' '是不同的概念，第一个是空串，是False，第二个是占了一个空格的字符，是True\n",
    "\n",
    "# type(类型)，type是所有类型的类，元类是构造类的类，是第一个类，不是子父类的关系\n",
    "# 类型判断\n",
    "# type(变量) == 类型（str, list, int, float, bool）\n",
    "# isinstance(var, type) 类型判断，表示var是type类型吗，常用\n",
    "\n",
    "# print()函数\n",
    "# 可以接受多个参数，默认是空格分割，可以用sep指定分隔符\n",
    "# end是结尾符号，默认是换行\n",
    "# file默认输出到控制台，可以输出到文件中\n",
    "\n",
    "# for循环后的else除了break都会执行else中的语句，正常执行完都会执行else"
   ]
  },
  {
   "cell_type": "code",
   "execution_count": 1,
   "id": "417152db",
   "metadata": {},
   "outputs": [
    {
     "data": {
      "text/plain": [
       "\"ab'c\""
      ]
     },
     "execution_count": 1,
     "metadata": {},
     "output_type": "execute_result"
    }
   ],
   "source": [
    "'ab\\'c'"
   ]
  },
  {
   "cell_type": "code",
   "execution_count": 2,
   "id": "c020109c",
   "metadata": {},
   "outputs": [
    {
     "name": "stdout",
     "output_type": "stream",
     "text": [
      "a\n",
      "b\n"
     ]
    }
   ],
   "source": [
    "print('a\\nb') # print才会有换行效果"
   ]
  },
  {
   "cell_type": "code",
   "execution_count": 3,
   "id": "6c21c69d",
   "metadata": {},
   "outputs": [
    {
     "data": {
      "text/plain": [
       "'a\\nb'"
      ]
     },
     "execution_count": 3,
     "metadata": {},
     "output_type": "execute_result"
    }
   ],
   "source": [
    "'a\\nb'"
   ]
  },
  {
   "cell_type": "code",
   "execution_count": 6,
   "id": "645bd5a3",
   "metadata": {},
   "outputs": [
    {
     "name": "stdout",
     "output_type": "stream",
     "text": [
      "c:\\windows\\nt\n"
     ]
    }
   ],
   "source": [
    "a = r'c:\\windows\\nt'\n",
    "print(a)"
   ]
  },
  {
   "cell_type": "code",
   "execution_count": 14,
   "id": "a305b650",
   "metadata": {},
   "outputs": [],
   "source": [
    "a=1\n",
    "b=10"
   ]
  },
  {
   "cell_type": "code",
   "execution_count": 15,
   "id": "7fa769bc",
   "metadata": {},
   "outputs": [
    {
     "data": {
      "text/plain": [
       "'1+10=11'"
      ]
     },
     "execution_count": 15,
     "metadata": {},
     "output_type": "execute_result"
    }
   ],
   "source": [
    "\"{}+{}={}\".format(a, b, a + b)"
   ]
  },
  {
   "cell_type": "code",
   "execution_count": 16,
   "id": "c078c311",
   "metadata": {},
   "outputs": [
    {
     "data": {
      "text/plain": [
       "'1+10=11'"
      ]
     },
     "execution_count": 16,
     "metadata": {},
     "output_type": "execute_result"
    }
   ],
   "source": [
    "f'{a}+{b}={a + b}' # f string, 3.6之后才有的，插值字符串"
   ]
  },
  {
   "cell_type": "code",
   "execution_count": 45,
   "id": "40f977c5",
   "metadata": {},
   "outputs": [
    {
     "data": {
      "text/plain": [
       "'asdook'"
      ]
     },
     "execution_count": 45,
     "metadata": {},
     "output_type": "execute_result"
    }
   ],
   "source": [
    "a = 'asd'\\\n",
    "'ook'\n",
    "a"
   ]
  },
  {
   "cell_type": "code",
   "execution_count": 37,
   "id": "e781f0a4",
   "metadata": {},
   "outputs": [
    {
     "name": "stdout",
     "output_type": "stream",
     "text": [
      "a\n",
      "\n",
      "b\n",
      "\n",
      "c\n",
      "\n"
     ]
    },
    {
     "data": {
      "text/plain": [
       "'a\\n\\nb\\n\\nc\\n'"
      ]
     },
     "execution_count": 37,
     "metadata": {},
     "output_type": "execute_result"
    }
   ],
   "source": [
    "a=\"\"\"a\\n\n",
    "b\\n\n",
    "c\n",
    "\"\"\"\n",
    "print(a)\n",
    "a"
   ]
  },
  {
   "cell_type": "code",
   "execution_count": 36,
   "id": "14ebec40",
   "metadata": {},
   "outputs": [],
   "source": [
    "a:int = 10"
   ]
  },
  {
   "cell_type": "code",
   "execution_count": 44,
   "id": "6340f996",
   "metadata": {},
   "outputs": [
    {
     "data": {
      "text/plain": [
       "(True, False)"
      ]
     },
     "execution_count": 44,
     "metadata": {},
     "output_type": "execute_result"
    }
   ],
   "source": [
    "bool(1),bool([])"
   ]
  },
  {
   "cell_type": "code",
   "execution_count": 46,
   "id": "3d593c0b",
   "metadata": {},
   "outputs": [
    {
     "name": "stdout",
     "output_type": "stream",
     "text": [
      "True\n"
     ]
    }
   ],
   "source": [
    "a = 2\n",
    "print(3 > a > 0)"
   ]
  },
  {
   "cell_type": "code",
   "execution_count": 47,
   "id": "d39b46df",
   "metadata": {},
   "outputs": [
    {
     "name": "stdout",
     "output_type": "stream",
     "text": [
      "True\n"
     ]
    }
   ],
   "source": [
    "a = 1\n",
    "print(a > 0 and a < 5)"
   ]
  },
  {
   "cell_type": "code",
   "execution_count": 48,
   "id": "9b0b9dbe",
   "metadata": {},
   "outputs": [
    {
     "data": {
      "text/plain": [
       "1"
      ]
     },
     "execution_count": 48,
     "metadata": {},
     "output_type": "execute_result"
    }
   ],
   "source": [
    "True and a"
   ]
  },
  {
   "cell_type": "code",
   "execution_count": 49,
   "id": "bdabbb88",
   "metadata": {},
   "outputs": [
    {
     "data": {
      "text/plain": [
       "''"
      ]
     },
     "execution_count": 49,
     "metadata": {},
     "output_type": "execute_result"
    }
   ],
   "source": [
    "True and a and ''"
   ]
  },
  {
   "cell_type": "code",
   "execution_count": 50,
   "id": "645afcc8",
   "metadata": {},
   "outputs": [
    {
     "name": "stdout",
     "output_type": "stream",
     "text": [
      "default\n"
     ]
    }
   ],
   "source": [
    "# 设置默认值\n",
    "a = ''\n",
    "i = a or 'default'\n",
    "print(i)"
   ]
  },
  {
   "cell_type": "code",
   "execution_count": 3,
   "id": "db63d491",
   "metadata": {},
   "outputs": [
    {
     "data": {
      "text/plain": [
       "(123, 1)"
      ]
     },
     "execution_count": 3,
     "metadata": {},
     "output_type": "execute_result"
    }
   ],
   "source": [
    "int('123'), int(1.23)"
   ]
  },
  {
   "cell_type": "code",
   "execution_count": 53,
   "id": "89fd0df4",
   "metadata": {},
   "outputs": [
    {
     "data": {
      "text/plain": [
       "1.0"
      ]
     },
     "execution_count": 53,
     "metadata": {},
     "output_type": "execute_result"
    }
   ],
   "source": [
    "float('1')"
   ]
  },
  {
   "cell_type": "code",
   "execution_count": 2,
   "id": "b04e9d2f",
   "metadata": {},
   "outputs": [
    {
     "data": {
      "text/plain": [
       "1"
      ]
     },
     "execution_count": 2,
     "metadata": {},
     "output_type": "execute_result"
    }
   ],
   "source": [
    "int(float('1.23'))"
   ]
  },
  {
   "cell_type": "code",
   "execution_count": 56,
   "id": "59004f9f",
   "metadata": {},
   "outputs": [
    {
     "data": {
      "text/plain": [
       "('abc', '123')"
      ]
     },
     "execution_count": 56,
     "metadata": {},
     "output_type": "execute_result"
    }
   ],
   "source": [
    "str('abc'), str('123')"
   ]
  },
  {
   "cell_type": "code",
   "execution_count": 57,
   "id": "9bb5e619",
   "metadata": {},
   "outputs": [
    {
     "data": {
      "text/plain": [
       "str"
      ]
     },
     "execution_count": 57,
     "metadata": {},
     "output_type": "execute_result"
    }
   ],
   "source": [
    "x = 'abc'\n",
    "type(x)"
   ]
  },
  {
   "cell_type": "code",
   "execution_count": 63,
   "id": "81e68a37",
   "metadata": {},
   "outputs": [
    {
     "data": {
      "text/plain": [
       "True"
      ]
     },
     "execution_count": 63,
     "metadata": {},
     "output_type": "execute_result"
    }
   ],
   "source": [
    "type(x) == str"
   ]
  },
  {
   "cell_type": "code",
   "execution_count": 61,
   "id": "9fb88312",
   "metadata": {},
   "outputs": [
    {
     "data": {
      "text/plain": [
       "(False, True)"
      ]
     },
     "execution_count": 61,
     "metadata": {},
     "output_type": "execute_result"
    }
   ],
   "source": [
    "bool(''), bool(' ')"
   ]
  },
  {
   "cell_type": "code",
   "execution_count": 62,
   "id": "87a56921",
   "metadata": {},
   "outputs": [
    {
     "data": {
      "text/plain": [
       "type"
      ]
     },
     "execution_count": 62,
     "metadata": {},
     "output_type": "execute_result"
    }
   ],
   "source": [
    "type(str)"
   ]
  },
  {
   "cell_type": "code",
   "execution_count": 67,
   "id": "4f153de7",
   "metadata": {},
   "outputs": [
    {
     "data": {
      "text/plain": [
       "(True, True, True)"
      ]
     },
     "execution_count": 67,
     "metadata": {},
     "output_type": "execute_result"
    }
   ],
   "source": [
    "isinstance(1, int), isinstance(False, int), isinstance(False, (str, int, bool))"
   ]
  },
  {
   "cell_type": "code",
   "execution_count": 69,
   "id": "a0c7fe2a",
   "metadata": {},
   "outputs": [
    {
     "name": "stdout",
     "output_type": "stream",
     "text": [
      "1\n",
      "abc\n",
      "[1, 2, 3]\n"
     ]
    }
   ],
   "source": [
    "print(1, 'abc', [1, 2, 3], sep='\\n')"
   ]
  },
  {
   "cell_type": "code",
   "execution_count": 1,
   "id": "e93287a8",
   "metadata": {},
   "outputs": [],
   "source": [
    "# 分支循环"
   ]
  },
  {
   "cell_type": "code",
   "execution_count": 3,
   "id": "885ddc5f",
   "metadata": {},
   "outputs": [],
   "source": [
    "# 先pass记上todo，将来再写具体代码\n",
    "if True:\n",
    "    pass # TODO"
   ]
  },
  {
   "cell_type": "code",
   "execution_count": 1,
   "id": "9bdeb786",
   "metadata": {},
   "outputs": [
    {
     "data": {
      "text/plain": [
       "range(0, 0)"
      ]
     },
     "execution_count": 1,
     "metadata": {},
     "output_type": "execute_result"
    }
   ],
   "source": [
    "range(0)"
   ]
  },
  {
   "cell_type": "code",
   "execution_count": 3,
   "id": "41d7abe6",
   "metadata": {},
   "outputs": [
    {
     "data": {
      "text/plain": [
       "range(2, -2)"
      ]
     },
     "execution_count": 3,
     "metadata": {},
     "output_type": "execute_result"
    }
   ],
   "source": [
    "range(2, -2)"
   ]
  },
  {
   "cell_type": "code",
   "execution_count": 21,
   "id": "9fcaee09",
   "metadata": {},
   "outputs": [
    {
     "name": "stdout",
     "output_type": "stream",
     "text": [
      "1\n",
      "4\n",
      "7\n"
     ]
    }
   ],
   "source": [
    "for i in range(1, 10, 3):\n",
    "    print(i)"
   ]
  },
  {
   "cell_type": "code",
   "execution_count": 18,
   "id": "7e7c39bb",
   "metadata": {},
   "outputs": [
    {
     "name": "stdout",
     "output_type": "stream",
     "text": [
      "1 7\n",
      "2 14\n",
      "3 21\n",
      "4 28\n",
      "5 35\n",
      "6 42\n",
      "7 49\n",
      "8 56\n",
      "9 63\n",
      "10 70\n"
     ]
    }
   ],
   "source": [
    "count = 1\n",
    "for i in range(7, 1000, 7):\n",
    "    print(count, i)\n",
    "    if count == 10:\n",
    "        break\n",
    "    count += 1"
   ]
  },
  {
   "cell_type": "code",
   "execution_count": 19,
   "id": "d816145f",
   "metadata": {},
   "outputs": [
    {
     "name": "stdout",
     "output_type": "stream",
     "text": [
      "1 7\n",
      "2 14\n",
      "3 21\n",
      "4 28\n",
      "5 35\n",
      "6 42\n",
      "7 49\n",
      "8 56\n",
      "9 63\n",
      "10 70\n"
     ]
    }
   ],
   "source": [
    "count = 1\n",
    "start = 7\n",
    "while True:\n",
    "    print(count, start)\n",
    "    if count == 10:\n",
    "        break\n",
    "    count += 1\n",
    "    start += 7"
   ]
  },
  {
   "cell_type": "code",
   "execution_count": 20,
   "id": "8e6ba2cb",
   "metadata": {},
   "outputs": [
    {
     "name": "stdout",
     "output_type": "stream",
     "text": [
      "1 7\n",
      "2 14\n",
      "3 21\n",
      "4 28\n",
      "5 35\n",
      "6 42\n",
      "7 49\n",
      "8 56\n",
      "9 63\n",
      "10 70\n"
     ]
    }
   ],
   "source": [
    "for i in range(0, 10):\n",
    "    print(i + 1, (i + 1) * 7)"
   ]
  },
  {
   "cell_type": "code",
   "execution_count": 27,
   "id": "3e6ea870",
   "metadata": {},
   "outputs": [
    {
     "name": "stdout",
     "output_type": "stream",
     "text": [
      "0\n",
      "end\n"
     ]
    }
   ],
   "source": [
    "for i in range(1):\n",
    "    print(i)\n",
    "else:\n",
    "    print('end')"
   ]
  },
  {
   "cell_type": "code",
   "execution_count": 28,
   "id": "33915c70",
   "metadata": {},
   "outputs": [
    {
     "name": "stdout",
     "output_type": "stream",
     "text": [
      "0\n",
      "1\n",
      "2\n",
      "3\n"
     ]
    }
   ],
   "source": [
    "for i in range(10):\n",
    "    if i > 3:\n",
    "        break\n",
    "    print(i)\n",
    "else:\n",
    "    print('end')"
   ]
  },
  {
   "cell_type": "code",
   "execution_count": 29,
   "id": "af98fdd4",
   "metadata": {},
   "outputs": [
    {
     "name": "stdout",
     "output_type": "stream",
     "text": [
      "0\n",
      "1\n",
      "2\n",
      "3\n",
      "end\n"
     ]
    }
   ],
   "source": [
    "for i in range(10):\n",
    "    if i > 3:\n",
    "        continue\n",
    "    print(i)\n",
    "else:\n",
    "    print('end')"
   ]
  },
  {
   "cell_type": "code",
   "execution_count": 31,
   "id": "12459838",
   "metadata": {},
   "outputs": [
    {
     "name": "stdout",
     "output_type": "stream",
     "text": [
      "end\n"
     ]
    }
   ],
   "source": [
    "for i in range(0):\n",
    "    if i > 0:\n",
    "        continue\n",
    "    print(i)\n",
    "else:\n",
    "    print('end')"
   ]
  },
  {
   "cell_type": "code",
   "execution_count": 3,
   "id": "4a50206a",
   "metadata": {},
   "outputs": [
    {
     "name": "stdout",
     "output_type": "stream",
     "text": [
      ">>>\n",
      "empty\n"
     ]
    }
   ],
   "source": [
    "value = input('>>>')\n",
    "print(value if value else 'empty')"
   ]
  },
  {
   "cell_type": "code",
   "execution_count": 5,
   "id": "fdacb01d",
   "metadata": {},
   "outputs": [
    {
     "name": "stdout",
     "output_type": "stream",
     "text": [
      ">>>dasd\n",
      "dasd\n"
     ]
    }
   ],
   "source": [
    "value = input('>>>')\n",
    "print('empty' if not value else value)"
   ]
  },
  {
   "cell_type": "code",
   "execution_count": null,
   "id": "17f5c2bf",
   "metadata": {},
   "outputs": [],
   "source": []
  }
 ],
 "metadata": {
  "kernelspec": {
   "display_name": "Python 3 (ipykernel)",
   "language": "python",
   "name": "python3"
  },
  "language_info": {
   "codemirror_mode": {
    "name": "ipython",
    "version": 3
   },
   "file_extension": ".py",
   "mimetype": "text/x-python",
   "name": "python",
   "nbconvert_exporter": "python",
   "pygments_lexer": "ipython3",
   "version": "3.8.10"
  }
 },
 "nbformat": 4,
 "nbformat_minor": 5
}
