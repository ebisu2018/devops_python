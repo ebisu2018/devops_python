{
 "cells": [
  {
   "cell_type": "code",
   "execution_count": 20,
   "id": "b41f1ec7",
   "metadata": {
    "scrolled": true
   },
   "outputs": [],
   "source": [
    "# 用list()方法相当于生成了一个全新的列表\n",
    "# ==，用来判断内容是否相等\n",
    "# is，用来判断地址是否相同\n",
    "# id，用来获取元素内存中的地址\n",
    "\n",
    "# copy方法，浅复制，复制出的是一份副本，每个对象的引用地址的拷贝，指向的地址都是同一个对象，不会复制内部的引用类型的地址\n",
    "# 深拷贝，如果对象是引用类型，则对对象的地址也拷贝一份，而不是指向同一个引用对象，是递归拷贝\n",
    "# 字面常量虽然也是引用，但是没有必要拷贝副本，只是可变对象才会拷贝\n",
    "# 默认都是浅拷贝，需要根据需求决定是否要深拷贝"
   ]
  },
  {
   "cell_type": "code",
   "execution_count": 3,
   "id": "11171224",
   "metadata": {},
   "outputs": [
    {
     "data": {
      "text/plain": [
       "(True, False)"
      ]
     },
     "execution_count": 3,
     "metadata": {},
     "output_type": "execute_result"
    }
   ],
   "source": [
    "a = list(range(5))\n",
    "b = list(range(5))\n",
    "a == b, a is b"
   ]
  },
  {
   "cell_type": "code",
   "execution_count": 4,
   "id": "e9f6b82a",
   "metadata": {},
   "outputs": [
    {
     "data": {
      "text/plain": [
       "(True, True)"
      ]
     },
     "execution_count": 4,
     "metadata": {},
     "output_type": "execute_result"
    }
   ],
   "source": [
    "a = list(range(5))\n",
    "b = a\n",
    "a == b, a is b"
   ]
  },
  {
   "cell_type": "code",
   "execution_count": 10,
   "id": "e31638df",
   "metadata": {},
   "outputs": [
    {
     "name": "stdout",
     "output_type": "stream",
     "text": [
      "True False\n",
      "1885591212992 1885591290496\n"
     ]
    },
    {
     "data": {
      "text/plain": [
       "(False, False)"
      ]
     },
     "execution_count": 10,
     "metadata": {},
     "output_type": "execute_result"
    }
   ],
   "source": [
    "a = list(range(5))\n",
    "b = a.copy()\n",
    "print(a == b, a is b)\n",
    "print(id(a), id(b))\n",
    "a[1] = 100\n",
    "a == b, a is b"
   ]
  },
  {
   "cell_type": "code",
   "execution_count": 13,
   "id": "e3215606",
   "metadata": {},
   "outputs": [
    {
     "name": "stdout",
     "output_type": "stream",
     "text": [
      "True\n"
     ]
    }
   ],
   "source": [
    "a = [1, [2, 3, 4], 5]\n",
    "c = a\n",
    "c[2] = 300\n",
    "print(a == c)"
   ]
  },
  {
   "cell_type": "code",
   "execution_count": 15,
   "id": "d169cb4d",
   "metadata": {},
   "outputs": [
    {
     "name": "stdout",
     "output_type": "stream",
     "text": [
      "True [1, [2, 100, 4], 5] [1, [2, 100, 4], 5]\n",
      "False ['a', [2, 100, 4], 5] [1, [2, 100, 4], 5]\n"
     ]
    }
   ],
   "source": [
    "a = [1, [2, 3, 4], 5]\n",
    "b = a.copy()\n",
    "b[1][1] = 100\n",
    "print(a == b, a, b)\n",
    "a[0] = 'a'\n",
    "print(a == b, a, b)"
   ]
  },
  {
   "cell_type": "code",
   "execution_count": 17,
   "id": "4769fdcd",
   "metadata": {},
   "outputs": [
    {
     "name": "stdout",
     "output_type": "stream",
     "text": [
      "140713157138192\n",
      "1885591298112\n",
      "140713157138320\n",
      "140713157138192\n",
      "1885591298112\n",
      "140713157138320\n"
     ]
    }
   ],
   "source": [
    "a = [1, [2, 3, 4], 5]\n",
    "b = a.copy()\n",
    "for i in a:\n",
    "    print(id(i))\n",
    "for i in b:\n",
    "    print(id(i))"
   ]
  },
  {
   "cell_type": "code",
   "execution_count": 19,
   "id": "c4dc3160",
   "metadata": {},
   "outputs": [
    {
     "name": "stdout",
     "output_type": "stream",
     "text": [
      "False [1, [2, 3, 4], 5] [1, [2, 100, 4], 5]\n",
      "140713157138192\n",
      "1885591292736\n",
      "140713157138320\n",
      "140713157138192\n",
      "1885591291904\n",
      "140713157138320\n"
     ]
    }
   ],
   "source": [
    "import copy\n",
    "a = [1, [2, 3, 4], 5]\n",
    "b = copy.deepcopy(a)\n",
    "b[1][1] = 100\n",
    "print(a == b, a, b)\n",
    "for i in a:\n",
    "    print(id(i))\n",
    "for i in b:\n",
    "    print(id(i))"
   ]
  },
  {
   "cell_type": "code",
   "execution_count": null,
   "id": "15fda554",
   "metadata": {},
   "outputs": [],
   "source": []
  },
  {
   "cell_type": "code",
   "execution_count": null,
   "id": "2f6a61cc",
   "metadata": {},
   "outputs": [],
   "source": []
  }
 ],
 "metadata": {
  "kernelspec": {
   "display_name": "Python 3 (ipykernel)",
   "language": "python",
   "name": "python3"
  },
  "language_info": {
   "codemirror_mode": {
    "name": "ipython",
    "version": 3
   },
   "file_extension": ".py",
   "mimetype": "text/x-python",
   "name": "python",
   "nbconvert_exporter": "python",
   "pygments_lexer": "ipython3",
   "version": "3.8.10"
  }
 },
 "nbformat": 4,
 "nbformat_minor": 5
}
