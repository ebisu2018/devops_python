{
 "cells": [
  {
   "cell_type": "code",
   "execution_count": 41,
   "id": "a856ca38",
   "metadata": {},
   "outputs": [],
   "source": [
    "# 内建函数，就是随着python解释器启动而运行的函数，不需要import进来\n",
    "# //地板除 只保留整数，正数和负数都是向小取整，相当于math.floor\n",
    "# math.floor()，向小取整\n",
    "# math.ceil()，向大取整\n",
    "# int()，只截取整数部分\n",
    "# round()，先取绝对值后再四舍五入\n",
    "# math.pow()精度高于内建函数pow，返回浮点数\n",
    "# 开方只有math.sqrt()\n",
    "# max()方法接受多个数值或者可迭代对象，不能混着比较\n",
    "# 强类型语言是相对概念，数值类型可以互相操作，但字符串和数字之间不能，数值类型之间有隐式类型转换"
   ]
  },
  {
   "cell_type": "code",
   "execution_count": 8,
   "id": "67e0ec2c",
   "metadata": {},
   "outputs": [
    {
     "data": {
      "text/plain": [
       "(0, 1, 2, 3)"
      ]
     },
     "execution_count": 8,
     "metadata": {},
     "output_type": "execute_result"
    }
   ],
   "source": [
    "1 // 2, 3 //2, 5 // 2, 7//2"
   ]
  },
  {
   "cell_type": "code",
   "execution_count": 9,
   "id": "8deca00c",
   "metadata": {},
   "outputs": [
    {
     "data": {
      "text/plain": [
       "(-1, -2, -3, -4)"
      ]
     },
     "execution_count": 9,
     "metadata": {},
     "output_type": "execute_result"
    }
   ],
   "source": [
    "-1//2, -3//2, -5//2, -7//2"
   ]
  },
  {
   "cell_type": "code",
   "execution_count": 10,
   "id": "63d1b2d2",
   "metadata": {},
   "outputs": [],
   "source": [
    "import math"
   ]
  },
  {
   "cell_type": "code",
   "execution_count": 11,
   "id": "388219ec",
   "metadata": {},
   "outputs": [
    {
     "data": {
      "text/plain": [
       "(1, 1, 1)"
      ]
     },
     "execution_count": 11,
     "metadata": {},
     "output_type": "execute_result"
    }
   ],
   "source": [
    "math.floor(1.1), math.floor(1.5), math.floor(1.8)"
   ]
  },
  {
   "cell_type": "code",
   "execution_count": 12,
   "id": "7569e685",
   "metadata": {},
   "outputs": [
    {
     "data": {
      "text/plain": [
       "(-2, -2, -2)"
      ]
     },
     "execution_count": 12,
     "metadata": {},
     "output_type": "execute_result"
    }
   ],
   "source": [
    "math.floor(-1.1), math.floor(-1.5), math.floor(-1.8)"
   ]
  },
  {
   "cell_type": "code",
   "execution_count": 13,
   "id": "f00f2b8f",
   "metadata": {},
   "outputs": [
    {
     "data": {
      "text/plain": [
       "(2, 2, 2)"
      ]
     },
     "execution_count": 13,
     "metadata": {},
     "output_type": "execute_result"
    }
   ],
   "source": [
    "math.ceil(1.1), math.ceil(1.5), math.ceil(1.8)"
   ]
  },
  {
   "cell_type": "code",
   "execution_count": 14,
   "id": "bed59974",
   "metadata": {},
   "outputs": [
    {
     "data": {
      "text/plain": [
       "(-1, -1, -1)"
      ]
     },
     "execution_count": 14,
     "metadata": {},
     "output_type": "execute_result"
    }
   ],
   "source": [
    "math.ceil(-1.1), math.ceil(-1.5), math.ceil(-1.8)"
   ]
  },
  {
   "cell_type": "code",
   "execution_count": 26,
   "id": "05568e56",
   "metadata": {},
   "outputs": [
    {
     "data": {
      "text/plain": [
       "(1, 2)"
      ]
     },
     "execution_count": 26,
     "metadata": {},
     "output_type": "execute_result"
    }
   ],
   "source": [
    "round(1.2), round(1.6)"
   ]
  },
  {
   "cell_type": "code",
   "execution_count": 27,
   "id": "d8b3906b",
   "metadata": {},
   "outputs": [
    {
     "data": {
      "text/plain": [
       "(-1, -2)"
      ]
     },
     "execution_count": 27,
     "metadata": {},
     "output_type": "execute_result"
    }
   ],
   "source": [
    "round(-1.2), round(-1.6)"
   ]
  },
  {
   "cell_type": "code",
   "execution_count": 37,
   "id": "6d6cb297",
   "metadata": {},
   "outputs": [
    {
     "data": {
      "text/plain": [
       "(10, 2, 8, 8.0, 8, 8, 1.4142135623730951, 1.4142135623730951)"
      ]
     },
     "execution_count": 37,
     "metadata": {},
     "output_type": "execute_result"
    }
   ],
   "source": [
    "abs(-10), min(2, 3, 4), max(2, 4, 8), math.pow(2, 3), 2 ** 3, pow(2, 3), math.sqrt(2), 2 ** 0.5"
   ]
  },
  {
   "cell_type": "code",
   "execution_count": 38,
   "id": "ebd5648b",
   "metadata": {},
   "outputs": [
    {
     "data": {
      "text/plain": [
       "9"
      ]
     },
     "execution_count": 38,
     "metadata": {},
     "output_type": "execute_result"
    }
   ],
   "source": [
    "max(range(10))"
   ]
  },
  {
   "cell_type": "code",
   "execution_count": 40,
   "id": "11eba9e5",
   "metadata": {},
   "outputs": [
    {
     "data": {
      "text/plain": [
       "3"
      ]
     },
     "execution_count": 40,
     "metadata": {},
     "output_type": "execute_result"
    }
   ],
   "source": [
    "1 + 1 + True + False # bool本质也是int类型，所以可以相加"
   ]
  }
 ],
 "metadata": {
  "kernelspec": {
   "display_name": "Python 3 (ipykernel)",
   "language": "python",
   "name": "python3"
  },
  "language_info": {
   "codemirror_mode": {
    "name": "ipython",
    "version": 3
   },
   "file_extension": ".py",
   "mimetype": "text/x-python",
   "name": "python",
   "nbconvert_exporter": "python",
   "pygments_lexer": "ipython3",
   "version": "3.8.10"
  }
 },
 "nbformat": 4,
 "nbformat_minor": 5
}
