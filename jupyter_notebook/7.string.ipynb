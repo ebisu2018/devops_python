{
 "cells": [
  {
   "cell_type": "code",
   "execution_count": null,
   "id": "579d85d3",
   "metadata": {},
   "outputs": [],
   "source": [
    "# 元组可以当成字面常量看，虽然表现是引用类型\n",
    "# 字符串是不可变的对象，是字面常量，一个个字符组成的有序序列，顺序表实现\n",
    "# python3开始字符串是unicode编码，没有字符类型，只有字符串类型\n",
    "# 单引号，双引号，三引号\n",
    "# 了解字符串插值，r前缀\n",
    "\n",
    "# 因为是不可变类型，因此没有增删改查，只有查\n",
    "# index(),count(),len()\n",
    "# str.find()，返回int类型，如果查到了则返回索引，如果没有查到则返回-1\n",
    "# 默认从左边找到第一个返回，如果rfind，则从右边查找第一个符合的\n",
    "# 而index和rindex如果没有找到则抛出异常\n",
    "# find可以指定start和end的范围\n",
    "# 字符串搜索选择find，找不到返回-1不会异常\n",
    "\n",
    "# +和*，都是生成一个新的字符串\n",
    "# join()方法，连接可迭代对象返回一个字符串，可迭代对象必须是字符串类型"
   ]
  },
  {
   "cell_type": "code",
   "execution_count": 1,
   "id": "c341ec91",
   "metadata": {},
   "outputs": [],
   "source": [
    "name = 'james'\n",
    "age = 20"
   ]
  },
  {
   "cell_type": "code",
   "execution_count": 2,
   "id": "deb74675",
   "metadata": {},
   "outputs": [
    {
     "data": {
      "text/plain": [
       "'james is 20'"
      ]
     },
     "execution_count": 2,
     "metadata": {},
     "output_type": "execute_result"
    }
   ],
   "source": [
    "f'{name} is {age}'"
   ]
  },
  {
   "cell_type": "code",
   "execution_count": 3,
   "id": "344e0552",
   "metadata": {},
   "outputs": [],
   "source": [
    "a = 'devops'"
   ]
  },
  {
   "cell_type": "code",
   "execution_count": 6,
   "id": "11a81bbf",
   "metadata": {},
   "outputs": [
    {
     "data": {
      "text/plain": [
       "(3, -1)"
      ]
     },
     "execution_count": 6,
     "metadata": {},
     "output_type": "execute_result"
    }
   ],
   "source": [
    "a.find('o'),a.find('x')"
   ]
  },
  {
   "cell_type": "code",
   "execution_count": 7,
   "id": "665a4f6f",
   "metadata": {},
   "outputs": [],
   "source": [
    "a = 'abcdabc'"
   ]
  },
  {
   "cell_type": "code",
   "execution_count": 8,
   "id": "2bf30e95",
   "metadata": {},
   "outputs": [
    {
     "data": {
      "text/plain": [
       "(0, 4)"
      ]
     },
     "execution_count": 8,
     "metadata": {},
     "output_type": "execute_result"
    }
   ],
   "source": [
    "a.index('ab'),a.rindex('ab'),a.index('x')"
   ]
  },
  {
   "cell_type": "code",
   "execution_count": 11,
   "id": "138effc2",
   "metadata": {},
   "outputs": [
    {
     "data": {
      "text/plain": [
       "(0, 4, -1)"
      ]
     },
     "execution_count": 11,
     "metadata": {},
     "output_type": "execute_result"
    }
   ],
   "source": [
    "a.find('ab'),a.rfind('ab'),a.find('x')"
   ]
  },
  {
   "cell_type": "code",
   "execution_count": 12,
   "id": "aa5eb034",
   "metadata": {},
   "outputs": [
    {
     "data": {
      "text/plain": [
       "'ab'"
      ]
     },
     "execution_count": 12,
     "metadata": {},
     "output_type": "execute_result"
    }
   ],
   "source": [
    "'a' + 'b'"
   ]
  },
  {
   "cell_type": "code",
   "execution_count": 13,
   "id": "5f3fc5c4",
   "metadata": {},
   "outputs": [
    {
     "data": {
      "text/plain": [
       "'aaaaaaaaaa'"
      ]
     },
     "execution_count": 13,
     "metadata": {},
     "output_type": "execute_result"
    }
   ],
   "source": [
    "'a' * 10"
   ]
  },
  {
   "cell_type": "code",
   "execution_count": 17,
   "id": "549076c1",
   "metadata": {},
   "outputs": [
    {
     "data": {
      "text/plain": [
       "'a-b-c'"
      ]
     },
     "execution_count": 17,
     "metadata": {},
     "output_type": "execute_result"
    }
   ],
   "source": [
    "'-'.join(['a', 'b', 'c'])"
   ]
  },
  {
   "cell_type": "code",
   "execution_count": 19,
   "id": "fda2911b",
   "metadata": {},
   "outputs": [
    {
     "data": {
      "text/plain": [
       "'a*b*c'"
      ]
     },
     "execution_count": 19,
     "metadata": {},
     "output_type": "execute_result"
    }
   ],
   "source": [
    "'*'.join('abc')"
   ]
  },
  {
   "cell_type": "code",
   "execution_count": 20,
   "id": "83a9065f",
   "metadata": {},
   "outputs": [
    {
     "data": {
      "text/plain": [
       "'0.1.2.3.4'"
      ]
     },
     "execution_count": 20,
     "metadata": {},
     "output_type": "execute_result"
    }
   ],
   "source": [
    "'.'.join(map(str, range(5)))"
   ]
  },
  {
   "cell_type": "code",
   "execution_count": null,
   "id": "371ae909",
   "metadata": {},
   "outputs": [],
   "source": []
  }
 ],
 "metadata": {
  "kernelspec": {
   "display_name": "Python 3 (ipykernel)",
   "language": "python",
   "name": "python3"
  },
  "language_info": {
   "codemirror_mode": {
    "name": "ipython",
    "version": 3
   },
   "file_extension": ".py",
   "mimetype": "text/x-python",
   "name": "python",
   "nbconvert_exporter": "python",
   "pygments_lexer": "ipython3",
   "version": "3.8.10"
  }
 },
 "nbformat": 4,
 "nbformat_minor": 5
}
