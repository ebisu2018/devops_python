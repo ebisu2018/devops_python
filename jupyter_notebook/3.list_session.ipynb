{
 "cells": [
  {
   "cell_type": "code",
   "execution_count": 28,
   "id": "d215bd51",
   "metadata": {},
   "outputs": [],
   "source": [
    "# 线性表分为列表和链表，线性表都是有序序列\n",
    "# 列表在内存空间表现为一段连续的，链表可以不是连续的内存空间，但是都是有序的\n",
    "\n",
    "# list()，参数是任何可迭代对象，如果是空则构造空列表\n",
    "# list中元素可以是任何类型\n",
    "# 正索引的范围是0到length-1\n",
    "# 负索引的范围是-length到-1\n",
    "\n",
    "# 时间复杂度\n",
    "# O(1): 总共有限个步骤，效率高，不用随着规模增大耗时增加\n",
    "# O(n): 随着规模增大，耗时增加，效率低\n",
    "\n",
    "# 增加\n",
    "# append()，后面追加元素，效率高，直接在尾部增加，没有返回值\n",
    "# insert(index, object)，在index处插入元素，无返回值，效率低\n",
    "# extend(可迭代对象)，相当于列表的合并，无返回值\n",
    "# +，拼接列表，生成一个新的列表\n",
    "# *，重复多次，生成一个新的列表\n",
    "# *号的本质是浅复制\n",
    "\n",
    "# 删除\n",
    "# remove，删除某一个元素，效率不高，因为需要遍历，并且发生位移，没有返回值\n",
    "# pop，弹出去并返回该值，可以指定索引定位，默认索引是最后一个\n",
    "# clear()，清空内容，把元素指向的对象引用计数减1，再把len为0\n",
    "\n",
    "# 改\n",
    "# 就是通过索引修改，效率很高，直接通过首地址和索引找到地址，时间复杂度O(1)\n",
    "\n",
    "# 查，通过索引查找元素\n",
    "# 首地址+索引*字节数,得到元素的值，效率高，时间复杂度是效率考量标准，为O(1)，随便用\n",
    "# index(), 查找元素的索引，默认从左边开始查找第一个指定的元素，时间复杂度O(n)，少用\n",
    "# count()，返回元素的总数，没有则为0，时间复杂度O(n)，少用\n",
    "# len()，返回列表的长度，时间复杂度O(1)，list的metadata中记录了length，随便用\n",
    "\n",
    "# 垃圾回收核心是引用计数，引用计数为0则是垃圾，合适的时间清除垃圾\n",
    "# 基于虚拟机的语言都是用GC垃圾回收机制解决碎片化内存的问题\n",
    "# 列表，字典，元组，集合都是引用类型，实际存储的都是内存地址！\n",
    "# python中一切都是对象，本质都是引用类型，保存的地址引用\n",
    "\n",
    "# reverse()，修改原有列表，效率低\n",
    "# sort()，排序，修改原有列表，可以指定reverse为True\n",
    "\n",
    "# 内建函数\n",
    "# reversed()，内建函数，接受有序序列为参数，返回是迭代器，这是倒着读\n",
    "# sorted()，返回全新的列表，默认升序，可以指定reverse=True，降序排列。这是排序！"
   ]
  },
  {
   "cell_type": "code",
   "execution_count": 5,
   "id": "ab31083f",
   "metadata": {},
   "outputs": [
    {
     "data": {
      "text/plain": [
       "([], [], [0, 1, 2, 3, 4])"
      ]
     },
     "execution_count": 5,
     "metadata": {},
     "output_type": "execute_result"
    }
   ],
   "source": [
    "list(), [], list(range(5))"
   ]
  },
  {
   "cell_type": "code",
   "execution_count": 9,
   "id": "8098fd18",
   "metadata": {},
   "outputs": [
    {
     "data": {
      "text/plain": [
       "([1, 2.0, None, True, [100], 'abc'], 1443049655552)"
      ]
     },
     "execution_count": 9,
     "metadata": {},
     "output_type": "execute_result"
    }
   ],
   "source": [
    "a = [1, 2.0, None, True, [100], 'abc']\n",
    "a, id(a)"
   ]
  },
  {
   "cell_type": "code",
   "execution_count": 8,
   "id": "f2ddb4e2",
   "metadata": {},
   "outputs": [
    {
     "data": {
      "text/plain": [
       "([1, 2.0, None, True, [100], 'abc'], 1443049785536)"
      ]
     },
     "execution_count": 8,
     "metadata": {},
     "output_type": "execute_result"
    }
   ],
   "source": [
    "b = list(a) #利用一个列表生成一个新的列表\n",
    "b, id(b)"
   ]
  },
  {
   "cell_type": "code",
   "execution_count": 10,
   "id": "dfe830d6",
   "metadata": {},
   "outputs": [
    {
     "data": {
      "text/plain": [
       "6"
      ]
     },
     "execution_count": 10,
     "metadata": {},
     "output_type": "execute_result"
    }
   ],
   "source": [
    "len(a)"
   ]
  },
  {
   "cell_type": "code",
   "execution_count": 24,
   "id": "587db5f5",
   "metadata": {},
   "outputs": [],
   "source": [
    "a = [1, 2, 3, 1, 2, 3]"
   ]
  },
  {
   "cell_type": "code",
   "execution_count": 25,
   "id": "59c351c7",
   "metadata": {},
   "outputs": [
    {
     "data": {
      "text/plain": [
       "2"
      ]
     },
     "execution_count": 25,
     "metadata": {},
     "output_type": "execute_result"
    }
   ],
   "source": [
    "a.index(3)"
   ]
  },
  {
   "cell_type": "code",
   "execution_count": 26,
   "id": "80b58244",
   "metadata": {},
   "outputs": [
    {
     "data": {
      "text/plain": [
       "(2, 0)"
      ]
     },
     "execution_count": 26,
     "metadata": {},
     "output_type": "execute_result"
    }
   ],
   "source": [
    "a.count(2), a.count(5)"
   ]
  },
  {
   "cell_type": "code",
   "execution_count": 27,
   "id": "07a908ee",
   "metadata": {},
   "outputs": [],
   "source": [
    "a.append(5)"
   ]
  },
  {
   "cell_type": "code",
   "execution_count": 29,
   "id": "d888be39",
   "metadata": {},
   "outputs": [],
   "source": [
    "a.insert(0, 100)"
   ]
  },
  {
   "cell_type": "code",
   "execution_count": 30,
   "id": "58e3a7f0",
   "metadata": {},
   "outputs": [
    {
     "data": {
      "text/plain": [
       "[100, 1, 2, 3, 1, 2, 3, 5]"
      ]
     },
     "execution_count": 30,
     "metadata": {},
     "output_type": "execute_result"
    }
   ],
   "source": [
    "a"
   ]
  },
  {
   "cell_type": "code",
   "execution_count": 32,
   "id": "c562b8ad",
   "metadata": {},
   "outputs": [
    {
     "data": {
      "text/plain": [
       "(None, [100, 1, 2, 3, 1, 2, 3, 5, 0, 1, 2, 3, 4])"
      ]
     },
     "execution_count": 32,
     "metadata": {},
     "output_type": "execute_result"
    }
   ],
   "source": [
    "a.extend(range(5)), a"
   ]
  },
  {
   "cell_type": "code",
   "execution_count": 4,
   "id": "25a4aa4c",
   "metadata": {},
   "outputs": [
    {
     "data": {
      "text/plain": [
       "([1, 1, 1], [[1], [1], [1]])"
      ]
     },
     "execution_count": 4,
     "metadata": {},
     "output_type": "execute_result"
    }
   ],
   "source": [
    "[1] * 3, [[1]] * 3"
   ]
  },
  {
   "cell_type": "code",
   "execution_count": 12,
   "id": "35c72bdb",
   "metadata": {},
   "outputs": [
    {
     "data": {
      "text/plain": [
       "[1, 1, 1]"
      ]
     },
     "execution_count": 12,
     "metadata": {},
     "output_type": "execute_result"
    }
   ],
   "source": [
    "a = [1] * 3\n",
    "a"
   ]
  },
  {
   "cell_type": "code",
   "execution_count": 13,
   "id": "2ab056cf",
   "metadata": {},
   "outputs": [
    {
     "data": {
      "text/plain": [
       "[1, 100, 1]"
      ]
     },
     "execution_count": 13,
     "metadata": {},
     "output_type": "execute_result"
    }
   ],
   "source": [
    "a[1] = 100\n",
    "a"
   ]
  },
  {
   "cell_type": "code",
   "execution_count": 14,
   "id": "1888f661",
   "metadata": {},
   "outputs": [
    {
     "data": {
      "text/plain": [
       "[[1], [1], [1]]"
      ]
     },
     "execution_count": 14,
     "metadata": {},
     "output_type": "execute_result"
    }
   ],
   "source": [
    "a = [[1]] * 3\n",
    "a"
   ]
  },
  {
   "cell_type": "code",
   "execution_count": 15,
   "id": "d9bb448e",
   "metadata": {},
   "outputs": [
    {
     "data": {
      "text/plain": [
       "[[1], 100, [1]]"
      ]
     },
     "execution_count": 15,
     "metadata": {},
     "output_type": "execute_result"
    }
   ],
   "source": [
    "a[1] = 100\n",
    "a"
   ]
  },
  {
   "cell_type": "code",
   "execution_count": 16,
   "id": "29451489",
   "metadata": {},
   "outputs": [
    {
     "data": {
      "text/plain": [
       "[[1], [1], [1]]"
      ]
     },
     "execution_count": 16,
     "metadata": {},
     "output_type": "execute_result"
    }
   ],
   "source": [
    "a = [[1]] * 3\n",
    "a"
   ]
  },
  {
   "cell_type": "code",
   "execution_count": 3,
   "id": "43fe5b20",
   "metadata": {},
   "outputs": [
    {
     "ename": "NameError",
     "evalue": "name 'a' is not defined",
     "output_type": "error",
     "traceback": [
      "\u001b[1;31m---------------------------------------------------------------------------\u001b[0m",
      "\u001b[1;31mNameError\u001b[0m                                 Traceback (most recent call last)",
      "\u001b[1;32m~\\AppData\\Local\\Temp/ipykernel_9828/2792407067.py\u001b[0m in \u001b[0;36m<module>\u001b[1;34m\u001b[0m\n\u001b[1;32m----> 1\u001b[1;33m \u001b[0ma\u001b[0m\u001b[1;33m[\u001b[0m\u001b[1;36m1\u001b[0m\u001b[1;33m]\u001b[0m\u001b[1;33m[\u001b[0m\u001b[1;36m0\u001b[0m\u001b[1;33m]\u001b[0m \u001b[1;33m=\u001b[0m \u001b[1;36m500\u001b[0m\u001b[1;33m\u001b[0m\u001b[1;33m\u001b[0m\u001b[0m\n\u001b[0m\u001b[0;32m      2\u001b[0m \u001b[0ma\u001b[0m\u001b[1;33m\u001b[0m\u001b[1;33m\u001b[0m\u001b[0m\n",
      "\u001b[1;31mNameError\u001b[0m: name 'a' is not defined"
     ]
    }
   ],
   "source": [
    "a[1][0] = 500\n",
    "a"
   ]
  },
  {
   "cell_type": "code",
   "execution_count": 4,
   "id": "229eb902",
   "metadata": {},
   "outputs": [],
   "source": [
    "a = [1, 2, 3]"
   ]
  },
  {
   "cell_type": "code",
   "execution_count": 5,
   "id": "52baaefe",
   "metadata": {},
   "outputs": [],
   "source": [
    "a.remove(1)"
   ]
  },
  {
   "cell_type": "code",
   "execution_count": 6,
   "id": "a11fe2ec",
   "metadata": {},
   "outputs": [
    {
     "data": {
      "text/plain": [
       "[2, 3]"
      ]
     },
     "execution_count": 6,
     "metadata": {},
     "output_type": "execute_result"
    }
   ],
   "source": [
    "a"
   ]
  },
  {
   "cell_type": "code",
   "execution_count": 7,
   "id": "d0877536",
   "metadata": {},
   "outputs": [
    {
     "data": {
      "text/plain": [
       "3"
      ]
     },
     "execution_count": 7,
     "metadata": {},
     "output_type": "execute_result"
    }
   ],
   "source": [
    "a.pop()"
   ]
  },
  {
   "cell_type": "code",
   "execution_count": 20,
   "id": "06637f34",
   "metadata": {},
   "outputs": [
    {
     "data": {
      "text/plain": [
       "[2, 8, 4, 5, 1]"
      ]
     },
     "execution_count": 20,
     "metadata": {},
     "output_type": "execute_result"
    }
   ],
   "source": [
    "a = [1, 5, 4, 8, 2]\n",
    "a.reverse()\n",
    "a"
   ]
  },
  {
   "cell_type": "code",
   "execution_count": 27,
   "id": "12c17beb",
   "metadata": {},
   "outputs": [
    {
     "data": {
      "text/plain": [
       "[8, 5, 4, 2, 1]"
      ]
     },
     "execution_count": 27,
     "metadata": {},
     "output_type": "execute_result"
    }
   ],
   "source": [
    "a.sort(reverse=True)\n",
    "a"
   ]
  },
  {
   "cell_type": "code",
   "execution_count": 23,
   "id": "10b346a1",
   "metadata": {},
   "outputs": [
    {
     "name": "stdout",
     "output_type": "stream",
     "text": [
      "8\n",
      "5\n",
      "4\n",
      "2\n",
      "1\n"
     ]
    }
   ],
   "source": [
    "for i in reversed(a):\n",
    "    print(i)"
   ]
  },
  {
   "cell_type": "code",
   "execution_count": 25,
   "id": "be11a388",
   "metadata": {},
   "outputs": [
    {
     "data": {
      "text/plain": [
       "[8, 5, 4, 2, 1]"
      ]
     },
     "execution_count": 25,
     "metadata": {},
     "output_type": "execute_result"
    }
   ],
   "source": [
    "sorted(a, reverse=True)"
   ]
  },
  {
   "cell_type": "code",
   "execution_count": null,
   "id": "5cc1782a",
   "metadata": {},
   "outputs": [],
   "source": []
  },
  {
   "cell_type": "code",
   "execution_count": null,
   "id": "ab6dd2c6",
   "metadata": {},
   "outputs": [],
   "source": []
  },
  {
   "cell_type": "code",
   "execution_count": null,
   "id": "c287a478",
   "metadata": {},
   "outputs": [],
   "source": []
  }
 ],
 "metadata": {
  "kernelspec": {
   "display_name": "Python 3 (ipykernel)",
   "language": "python",
   "name": "python3"
  },
  "language_info": {
   "codemirror_mode": {
    "name": "ipython",
    "version": 3
   },
   "file_extension": ".py",
   "mimetype": "text/x-python",
   "name": "python",
   "nbconvert_exporter": "python",
   "pygments_lexer": "ipython3",
   "version": "3.8.10"
  }
 },
 "nbformat": 4,
 "nbformat_minor": 5
}
