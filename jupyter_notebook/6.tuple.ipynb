{
 "cells": [
  {
   "cell_type": "code",
   "execution_count": 15,
   "id": "ba605088",
   "metadata": {},
   "outputs": [],
   "source": [
    "# 元组，不可变的对象，是只读的，不能增删改，但是如果引用的是一个可变的对象可以对那个对象修改\n",
    "# 可以用tuple(),()，或者逗号构造元组，如果只有一个元素，则必须加逗号，不加逗号代表优先级\n",
    "# tuple()中的参数是可迭代对象\n",
    "# 内存上效率高，一旦定义不可改变，相同数量元素元组更省空间，因为内部做了优化\n",
    "# 只有查的方法，index(), count(), len()\n",
    "# 元组可以用+，生成一个新的元组"
   ]
  },
  {
   "cell_type": "code",
   "execution_count": 1,
   "id": "f51574e4",
   "metadata": {},
   "outputs": [
    {
     "data": {
      "text/plain": [
       "(tuple, (), ())"
      ]
     },
     "execution_count": 1,
     "metadata": {},
     "output_type": "execute_result"
    }
   ],
   "source": [
    "type(()),(),tuple()"
   ]
  },
  {
   "cell_type": "code",
   "execution_count": 2,
   "id": "e73a5e2e",
   "metadata": {},
   "outputs": [],
   "source": [
    "x = 1, 2"
   ]
  },
  {
   "cell_type": "code",
   "execution_count": 3,
   "id": "4124583d",
   "metadata": {},
   "outputs": [
    {
     "data": {
      "text/plain": [
       "(1, 2)"
      ]
     },
     "execution_count": 3,
     "metadata": {},
     "output_type": "execute_result"
    }
   ],
   "source": [
    "x"
   ]
  },
  {
   "cell_type": "code",
   "execution_count": 4,
   "id": "de05db8f",
   "metadata": {},
   "outputs": [
    {
     "data": {
      "text/plain": [
       "((0, 1, 2, 3, 4), (1, 2, 3))"
      ]
     },
     "execution_count": 4,
     "metadata": {},
     "output_type": "execute_result"
    }
   ],
   "source": [
    "tuple(range(5)), tuple([1, 2, 3])"
   ]
  },
  {
   "cell_type": "code",
   "execution_count": 8,
   "id": "95ada01f",
   "metadata": {},
   "outputs": [
    {
     "data": {
      "text/plain": [
       "(0, 1, 2)"
      ]
     },
     "execution_count": 8,
     "metadata": {},
     "output_type": "execute_result"
    }
   ],
   "source": [
    "x.index(1),x.count(2), len(x)"
   ]
  },
  {
   "cell_type": "code",
   "execution_count": 9,
   "id": "392f553d",
   "metadata": {},
   "outputs": [
    {
     "data": {
      "text/plain": [
       "(1, 2)"
      ]
     },
     "execution_count": 9,
     "metadata": {},
     "output_type": "execute_result"
    }
   ],
   "source": [
    "(1,) + (2,)"
   ]
  },
  {
   "cell_type": "code",
   "execution_count": 10,
   "id": "972d7ead",
   "metadata": {},
   "outputs": [
    {
     "data": {
      "text/plain": [
       "(1, 1, 1)"
      ]
     },
     "execution_count": 10,
     "metadata": {},
     "output_type": "execute_result"
    }
   ],
   "source": [
    "(1,) * 3"
   ]
  },
  {
   "cell_type": "code",
   "execution_count": 14,
   "id": "b2f0488e",
   "metadata": {},
   "outputs": [
    {
     "name": "stdout",
     "output_type": "stream",
     "text": [
      "([3], [3], [3])\n",
      "([100], [100], [100])\n",
      "([100, 200], [100, 200], [100, 200])\n"
     ]
    }
   ],
   "source": [
    "a = ([3],) * 3\n",
    "print(a)\n",
    "a[0][0] = 100\n",
    "print(a)\n",
    "a[1].append(200)\n",
    "print(a)"
   ]
  },
  {
   "cell_type": "code",
   "execution_count": null,
   "id": "cbac001c",
   "metadata": {},
   "outputs": [],
   "source": []
  }
 ],
 "metadata": {
  "kernelspec": {
   "display_name": "Python 3 (ipykernel)",
   "language": "python",
   "name": "python3"
  },
  "language_info": {
   "codemirror_mode": {
    "name": "ipython",
    "version": 3
   },
   "file_extension": ".py",
   "mimetype": "text/x-python",
   "name": "python",
   "nbconvert_exporter": "python",
   "pygments_lexer": "ipython3",
   "version": "3.8.10"
  }
 },
 "nbformat": 4,
 "nbformat_minor": 5
}
